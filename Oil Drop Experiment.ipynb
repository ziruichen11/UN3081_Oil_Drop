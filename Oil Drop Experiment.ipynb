{
 "cells": [
  {
   "cell_type": "code",
   "execution_count": 1,
   "id": "843af96b",
   "metadata": {},
   "outputs": [],
   "source": [
    "import math\n",
    "import numpy as np\n",
    "import matplotlib.pyplot as plt\n"
   ]
  },
  {
   "cell_type": "code",
   "execution_count": 2,
   "id": "00c6d532",
   "metadata": {},
   "outputs": [],
   "source": [
    "# all in cgs units\n",
    "yita = 1.81e-4 # viscosity of medium at room T\n",
    "rho_oil = 0.872\n",
    "rho_air = 1.205e-3\n",
    "g=980\n",
    "\n",
    "\n",
    "def calc_a1(v_g):\n",
    "    return math.sqrt((9*yita*v_g)/(2*(rho_oil - rho_air)*g))\n"
   ]
  },
  {
   "cell_type": "code",
   "execution_count": 3,
   "id": "b587010b",
   "metadata": {},
   "outputs": [],
   "source": [
    "def calc_K1(v_g):\n",
    "    a1 = calc_a1(v_g)\n",
    "    b = 0.000617\n",
    "    p = 76\n",
    "    ratio = b / (p*a1)\n",
    "    k1 = 1+ ratio + 0.5*ratio**2\n",
    "    return k1**1.5"
   ]
  },
  {
   "cell_type": "code",
   "execution_count": 4,
   "id": "e0c9422e",
   "metadata": {},
   "outputs": [],
   "source": [
    "D = 0.497\n",
    "\n",
    "def calc_K2():\n",
    "    return 18*math.pi*D*math.sqrt(yita**3/(2*(rho_oil - rho_air)*g))"
   ]
  },
  {
   "cell_type": "code",
   "execution_count": 5,
   "id": "110da362",
   "metadata": {},
   "outputs": [],
   "source": [
    "V = 0.6641260205\n",
    "\n",
    "def calc_ne(v_g, v_e):\n",
    "    return calc_K2()*(v_g+v_e)*math.sqrt(v_g)/ (V*calc_K1(v_g))"
   ]
  },
  {
   "cell_type": "code",
   "execution_count": 6,
   "id": "58e64647",
   "metadata": {},
   "outputs": [],
   "source": [
    "def calc_v(list_of_t):\n",
    "    average_t = sum(list_of_t) / len(list_of_t)\n",
    "    d = 0.0396875 # distance between two \"stripes\"\n",
    "    v = d / average_t\n",
    "    return v"
   ]
  },
  {
   "cell_type": "code",
   "execution_count": 7,
   "id": "f13f04cf",
   "metadata": {},
   "outputs": [],
   "source": [
    "def calc_std_dev(list_of_values):\n",
    "    average = sum(list_of_values) / len(list_of_values)\n",
    "    temp = 0\n",
    "    for i in range(len(list_of_values)):\n",
    "        temp = (list_of_values[i] - average)**2\n",
    "    \n",
    "    return (temp / len(list_of_values))**0.5\n",
    "    \n",
    "def calc_average(list_of_values):\n",
    "    average = sum(list_of_values) / len(list_of_values)\n",
    "    return average"
   ]
  },
  {
   "cell_type": "code",
   "execution_count": 8,
   "id": "bacc88b2",
   "metadata": {},
   "outputs": [],
   "source": [
    "charges = []\n",
    "errors = []"
   ]
  },
  {
   "cell_type": "code",
   "execution_count": 9,
   "id": "e7efa232",
   "metadata": {},
   "outputs": [
    {
     "name": "stdout",
     "output_type": "stream",
     "text": [
      "7.19052827667736e-10\n",
      "7.767287848170642e-11\n"
     ]
    }
   ],
   "source": [
    "t_e = [4.83, 5.9]\n",
    "t_g = [20.85, 24.82]\n",
    "\n",
    "d = 0.0396875\n",
    "v_e = []\n",
    "v_g = []\n",
    "\n",
    "for i in range(len(t_e)):\n",
    "    v_e.append(d / t_e[i])\n",
    "    v_g.append(d / t_g[i])\n",
    "\n",
    "ne_values = []\n",
    "for i in range(len(v_e)):\n",
    "    ne_values.append(calc_ne(v_g[i], v_e[i]))\n",
    "    \n",
    "charges.append(calc_average(ne_values))\n",
    "errors.append(calc_std_dev(ne_values))\n",
    "print (calc_average(ne_values))\n",
    "print (calc_std_dev(ne_values))"
   ]
  },
  {
   "cell_type": "code",
   "execution_count": 10,
   "id": "a8943a76",
   "metadata": {},
   "outputs": [
    {
     "name": "stdout",
     "output_type": "stream",
     "text": [
      "5.08471207902355e-10\n",
      "1.0223949382985955e-11\n"
     ]
    }
   ],
   "source": [
    "t_e = [8.26, 7.06]\n",
    "t_g = [22, 26.81]\n",
    "\n",
    "d = 0.0396875\n",
    "v_e = []\n",
    "v_g = []\n",
    "\n",
    "for i in range(len(t_e)):\n",
    "    v_e.append(d / t_e[i])\n",
    "    v_g.append(d / t_g[i])\n",
    "\n",
    "ne_values = []\n",
    "for i in range(len(v_e)):\n",
    "    ne_values.append(calc_ne(v_g[i], v_e[i]))\n",
    "    \n",
    "charges.append(calc_average(ne_values))\n",
    "errors.append(calc_std_dev(ne_values))\n",
    "print (calc_average(ne_values))\n",
    "print (calc_std_dev(ne_values))"
   ]
  },
  {
   "cell_type": "code",
   "execution_count": 11,
   "id": "e16a2c13",
   "metadata": {},
   "outputs": [
    {
     "name": "stdout",
     "output_type": "stream",
     "text": [
      "8.090408576980114e-10\n",
      "3.1969713791180035e-11\n"
     ]
    }
   ],
   "source": [
    "t_e = [4.76, 5.6, 5.88]\n",
    "t_g = [19.31, 23.36, 16.61]\n",
    "\n",
    "d = 0.0396875\n",
    "v_e = []\n",
    "v_g = []\n",
    "\n",
    "for i in range(len(t_e)):\n",
    "    v_e.append(d / t_e[i])\n",
    "    v_g.append(d / t_g[i])\n",
    "\n",
    "ne_values = []\n",
    "for i in range(len(v_e)):\n",
    "    ne_values.append(calc_ne(v_g[i], v_e[i]))\n",
    "    \n",
    "charges.append(calc_average(ne_values))\n",
    "errors.append(calc_std_dev(ne_values))\n",
    "\n",
    "print (calc_average(ne_values))\n",
    "print (calc_std_dev(ne_values))\n"
   ]
  },
  {
   "cell_type": "code",
   "execution_count": 12,
   "id": "8ff2a78c",
   "metadata": {},
   "outputs": [
    {
     "name": "stdout",
     "output_type": "stream",
     "text": [
      "1.2794178636798617e-09\n",
      "2.1084932206128653e-11\n"
     ]
    }
   ],
   "source": [
    "t_e = [3.6, 3.25, 3.19]\n",
    "t_g = [16.61, 18.79, 18.02]\n",
    "\n",
    "d = 0.0396875\n",
    "v_e = []\n",
    "v_g = []\n",
    "\n",
    "for i in range(len(t_e)):\n",
    "    v_e.append(d / t_e[i])\n",
    "    v_g.append(d / t_g[i])\n",
    "\n",
    "ne_values = []\n",
    "for i in range(len(v_e)):\n",
    "    ne_values.append(calc_ne(v_g[i], v_e[i]))\n",
    "    \n",
    "charges.append(calc_average(ne_values))\n",
    "errors.append(calc_std_dev(ne_values))\n",
    "\n",
    "print (calc_average(ne_values))\n",
    "print (calc_std_dev(ne_values))\n"
   ]
  },
  {
   "cell_type": "code",
   "execution_count": 13,
   "id": "ce04b35f",
   "metadata": {},
   "outputs": [
    {
     "name": "stdout",
     "output_type": "stream",
     "text": [
      "9.052219425790217e-10\n",
      "5.458510538602703e-11\n"
     ]
    }
   ],
   "source": [
    "t_e = [6.65, 5.48, 6.33]\n",
    "t_g = [14.18, 15.11, 16.8]\n",
    "\n",
    "d = 0.0396875\n",
    "v_e = []\n",
    "v_g = []\n",
    "\n",
    "for i in range(len(t_e)):\n",
    "    v_e.append(d / t_e[i])\n",
    "    v_g.append(d / t_g[i])\n",
    "\n",
    "ne_values = []\n",
    "for i in range(len(v_e)):\n",
    "    ne_values.append(calc_ne(v_g[i], v_e[i]))\n",
    "    \n",
    "charges.append(calc_average(ne_values))\n",
    "errors.append(calc_std_dev(ne_values))\n",
    "\n",
    "print (calc_average(ne_values))\n",
    "print (calc_std_dev(ne_values))"
   ]
  },
  {
   "cell_type": "code",
   "execution_count": 14,
   "id": "b692b1e0",
   "metadata": {},
   "outputs": [
    {
     "name": "stdout",
     "output_type": "stream",
     "text": [
      "6.372334766743913e-10\n",
      "1.0013810754372623e-10\n"
     ]
    }
   ],
   "source": [
    "t_e = [6.86, 6.69, 6.33]\n",
    "t_g = [26.2, 23.15, 16.8]\n",
    "\n",
    "d = 0.0396875\n",
    "v_e = []\n",
    "v_g = []\n",
    "\n",
    "for i in range(len(t_e)):\n",
    "    v_e.append(d / t_e[i])\n",
    "    v_g.append(d / t_g[i])\n",
    "\n",
    "ne_values = []\n",
    "for i in range(len(v_e)):\n",
    "    ne_values.append(calc_ne(v_g[i], v_e[i]))\n",
    "    \n",
    "charges.append(calc_average(ne_values))\n",
    "errors.append(calc_std_dev(ne_values))\n",
    "\n",
    "print (calc_average(ne_values))\n",
    "print (calc_std_dev(ne_values))"
   ]
  },
  {
   "cell_type": "code",
   "execution_count": 15,
   "id": "6a35998b",
   "metadata": {},
   "outputs": [
    {
     "name": "stdout",
     "output_type": "stream",
     "text": [
      "9.04762897079573e-10\n",
      "1.5541611328854853e-11\n"
     ]
    }
   ],
   "source": [
    "t_e = [4.92, 5.19, 4.71, 5.20, 4.73, 4.90]\n",
    "t_g = [18.78, 19.02, 17.73, 18.03, 17.54, 19.49]\n",
    "\n",
    "d = 0.0396875\n",
    "v_e = []\n",
    "v_g = []\n",
    "\n",
    "for i in range(len(t_e)):\n",
    "    v_e.append(d / t_e[i])\n",
    "    v_g.append(d / t_g[i])\n",
    "\n",
    "ne_values = []\n",
    "for i in range(len(v_e)):\n",
    "    ne_values.append(calc_ne(v_g[i], v_e[i]))\n",
    "    \n",
    "charges.append(calc_average(ne_values))\n",
    "errors.append(calc_std_dev(ne_values))\n",
    "\n",
    "print (calc_average(ne_values))\n",
    "print (calc_std_dev(ne_values))"
   ]
  },
  {
   "cell_type": "code",
   "execution_count": 16,
   "id": "67de838b",
   "metadata": {},
   "outputs": [
    {
     "name": "stdout",
     "output_type": "stream",
     "text": [
      "8.526186260457094e-10\n",
      "8.270577670057866e-12\n"
     ]
    }
   ],
   "source": [
    "t_e = [7.09, 5.77, 6.59, 6.37, 5.90]\n",
    "t_g = [14.48, 17.01, 14.80, 17.20, 16.42]\n",
    "\n",
    "d = 0.0396875\n",
    "v_e = []\n",
    "v_g = []\n",
    "\n",
    "for i in range(len(t_e)):\n",
    "    v_e.append(d / t_e[i])\n",
    "    v_g.append(d / t_g[i])\n",
    "\n",
    "ne_values = []\n",
    "for i in range(len(v_e)):\n",
    "    ne_values.append(calc_ne(v_g[i], v_e[i]))\n",
    "    \n",
    "charges.append(calc_average(ne_values))\n",
    "errors.append(calc_std_dev(ne_values))\n",
    "\n",
    "print (calc_average(ne_values))\n",
    "print (calc_std_dev(ne_values))"
   ]
  },
  {
   "cell_type": "code",
   "execution_count": 17,
   "id": "4c805292",
   "metadata": {},
   "outputs": [
    {
     "name": "stdout",
     "output_type": "stream",
     "text": [
      "8.998613454578407e-10\n",
      "3.5936584728845468e-12\n"
     ]
    }
   ],
   "source": [
    "t_e = [7.20, 6.26, 6.61]\n",
    "t_g = [14.69, 14.16, 14.39]\n",
    "\n",
    "d = 0.0396875\n",
    "v_e = []\n",
    "v_g = []\n",
    "\n",
    "for i in range(len(t_e)):\n",
    "    v_e.append(d / t_e[i])\n",
    "    v_g.append(d / t_g[i])\n",
    "\n",
    "ne_values = []\n",
    "for i in range(len(v_e)):\n",
    "    ne_values.append(calc_ne(v_g[i], v_e[i]))\n",
    "    \n",
    "charges.append(calc_average(ne_values))\n",
    "errors.append(calc_std_dev(ne_values))\n",
    "\n",
    "print (calc_average(ne_values))\n",
    "print (calc_std_dev(ne_values))"
   ]
  },
  {
   "cell_type": "code",
   "execution_count": 18,
   "id": "cb9e480b",
   "metadata": {},
   "outputs": [
    {
     "name": "stdout",
     "output_type": "stream",
     "text": [
      "9.03200765186832e-10\n",
      "8.345314277097387e-12\n"
     ]
    }
   ],
   "source": [
    "t_e = [6.10, 5.85, 6.07, 5.38]\n",
    "t_g = [15.26, 15.53, 16.20, 16.69]\n",
    "\n",
    "d = 0.0396875\n",
    "v_e = []\n",
    "v_g = []\n",
    "\n",
    "for i in range(len(t_e)):\n",
    "    v_e.append(d / t_e[i])\n",
    "    v_g.append(d / t_g[i])\n",
    "\n",
    "ne_values = []\n",
    "for i in range(len(v_e)):\n",
    "    ne_values.append(calc_ne(v_g[i], v_e[i]))\n",
    "    \n",
    "charges.append(calc_average(ne_values))\n",
    "errors.append(calc_std_dev(ne_values))\n",
    "\n",
    "print (calc_average(ne_values))\n",
    "print (calc_std_dev(ne_values))"
   ]
  },
  {
   "cell_type": "code",
   "execution_count": 19,
   "id": "e67f263d",
   "metadata": {},
   "outputs": [
    {
     "name": "stdout",
     "output_type": "stream",
     "text": [
      "1.8271209693715876e-09\n",
      "1.2411925050015954e-10\n"
     ]
    }
   ],
   "source": [
    "t_e = [3.00, 3.80, 4.25]\n",
    "t_g = [11.00, 10.26, 10.73]\n",
    "\n",
    "d = 0.0396875\n",
    "v_e = []\n",
    "v_g = []\n",
    "\n",
    "for i in range(len(t_e)):\n",
    "    v_e.append(d / t_e[i])\n",
    "    v_g.append(d / t_g[i])\n",
    "\n",
    "ne_values = []\n",
    "for i in range(len(v_e)):\n",
    "    ne_values.append(calc_ne(v_g[i], v_e[i]))\n",
    "    \n",
    "charges.append(calc_average(ne_values))\n",
    "errors.append(calc_std_dev(ne_values))\n",
    "\n",
    "print (calc_average(ne_values))\n",
    "print (calc_std_dev(ne_values))"
   ]
  },
  {
   "cell_type": "code",
   "execution_count": 20,
   "id": "d8f3a24f",
   "metadata": {},
   "outputs": [
    {
     "name": "stdout",
     "output_type": "stream",
     "text": [
      "1.578446108785404e-09\n",
      "6.572106189956593e-11\n"
     ]
    }
   ],
   "source": [
    "t_e = [3.72, 4.14, 4.75]\n",
    "t_g = [11.19, 11.41, 10.94]\n",
    "\n",
    "d = 0.0396875\n",
    "v_e = []\n",
    "v_g = []\n",
    "\n",
    "for i in range(len(t_e)):\n",
    "    v_e.append(d / t_e[i])\n",
    "    v_g.append(d / t_g[i])\n",
    "\n",
    "ne_values = []\n",
    "for i in range(len(v_e)):\n",
    "    ne_values.append(calc_ne(v_g[i], v_e[i]))\n",
    "    \n",
    "charges.append(calc_average(ne_values))\n",
    "errors.append(calc_std_dev(ne_values))\n",
    "\n",
    "print (calc_average(ne_values))\n",
    "print (calc_std_dev(ne_values))"
   ]
  },
  {
   "cell_type": "code",
   "execution_count": 21,
   "id": "a7c26c34",
   "metadata": {},
   "outputs": [
    {
     "name": "stdout",
     "output_type": "stream",
     "text": [
      "1.397516874224959e-09\n",
      "4.9856395534392935e-11\n"
     ]
    }
   ],
   "source": [
    "t_e = [5.35, 5.73, 5.23]\n",
    "t_g = [10.5, 10.8, 10.05]\n",
    "\n",
    "d = 0.0396875\n",
    "v_e = []\n",
    "v_g = []\n",
    "\n",
    "for i in range(len(t_e)):\n",
    "    v_e.append(d / t_e[i])\n",
    "    v_g.append(d / t_g[i])\n",
    "\n",
    "ne_values = []\n",
    "for i in range(len(v_e)):\n",
    "    ne_values.append(calc_ne(v_g[i], v_e[i]))\n",
    "    \n",
    "charges.append(calc_average(ne_values))\n",
    "errors.append(calc_std_dev(ne_values))\n",
    "\n",
    "print (calc_average(ne_values))\n",
    "print (calc_std_dev(ne_values))\n"
   ]
  },
  {
   "cell_type": "code",
   "execution_count": 22,
   "id": "3f6064db",
   "metadata": {},
   "outputs": [
    {
     "name": "stdout",
     "output_type": "stream",
     "text": [
      "2.9096790968782063e-09\n",
      "2.513270353638047e-10\n"
     ]
    }
   ],
   "source": [
    "t_e = [2.27, 2.4, 1.99]\n",
    "t_g = [10.68, 9.50, 9,81]\n",
    "\n",
    "d = 0.0396875\n",
    "v_e = []\n",
    "v_g = []\n",
    "\n",
    "for i in range(len(t_e)):\n",
    "    v_e.append(d / t_e[i])\n",
    "    v_g.append(d / t_g[i])\n",
    "\n",
    "ne_values = []\n",
    "for i in range(len(v_e)):\n",
    "    ne_values.append(calc_ne(v_g[i], v_e[i]))\n",
    "    \n",
    "charges.append(calc_average(ne_values))\n",
    "errors.append(calc_std_dev(ne_values))\n",
    "\n",
    "print (calc_average(ne_values))\n",
    "print (calc_std_dev(ne_values))"
   ]
  },
  {
   "cell_type": "code",
   "execution_count": 23,
   "id": "885672b0",
   "metadata": {},
   "outputs": [
    {
     "name": "stdout",
     "output_type": "stream",
     "text": [
      "8.84706464294605e-10\n",
      "1.370283850416011e-10\n"
     ]
    }
   ],
   "source": [
    "t_e = [6.06, 6.23, 6.20]\n",
    "t_g = [19.91, 17,12, 16.90]\n",
    "\n",
    "d = 0.0396875\n",
    "v_e = []\n",
    "v_g = []\n",
    "\n",
    "for i in range(len(t_e)):\n",
    "    v_e.append(d / t_e[i])\n",
    "    v_g.append(d / t_g[i])\n",
    "\n",
    "ne_values = []\n",
    "for i in range(len(v_e)):\n",
    "    ne_values.append(calc_ne(v_g[i], v_e[i]))\n",
    "    \n",
    "charges.append(calc_average(ne_values))\n",
    "errors.append(calc_std_dev(ne_values))\n",
    "\n",
    "print (calc_average(ne_values))\n",
    "print (calc_std_dev(ne_values))\n"
   ]
  },
  {
   "cell_type": "code",
   "execution_count": 29,
   "id": "17f59ed7",
   "metadata": {},
   "outputs": [
    {
     "name": "stdout",
     "output_type": "stream",
     "text": [
      "[5.08471208e-10 6.37233477e-10 7.19052828e-10 8.09040858e-10\n",
      " 8.52618626e-10 8.84706464e-10 8.99861345e-10 9.03200765e-10\n",
      " 9.04762897e-10 9.05221943e-10 1.27941786e-09 1.39751687e-09\n",
      " 1.57844611e-09 1.82712097e-09 2.90967910e-09]\n",
      "[1.0223949382985955e-11, 1.0013810754372623e-10, 7.767287848170642e-11, 3.1969713791180035e-11, 8.270577670057866e-12, 1.370283850416011e-10, 3.5936584728845468e-12, 8.345314277097387e-12, 1.5541611328854853e-11, 5.458510538602703e-11, 2.1084932206128653e-11, 4.9856395534392935e-11, 6.572106189956593e-11, 1.2411925050015954e-10, 2.513270353638047e-10]\n"
     ]
    }
   ],
   "source": [
    "sorted_charges = np.sort(charges)\n",
    "print (sorted_charges)\n",
    "\n",
    "sorted_errors = []\n",
    "\n",
    "for i in range(len(sorted_charges)):\n",
    "    for j in range(len(charges)):\n",
    "        if (sorted_charges[i] == charges[j]):\n",
    "            sorted_errors.append(errors[j])\n",
    "            break\n",
    "            \n",
    "print (sorted_errors)"
   ]
  },
  {
   "cell_type": "code",
   "execution_count": 30,
   "id": "f0ea913e",
   "metadata": {},
   "outputs": [],
   "source": [
    "indexes = []\n",
    "for i in range(len(charges)):\n",
    "    indexes.append(i)"
   ]
  },
  {
   "cell_type": "code",
   "execution_count": 31,
   "id": "cca4e3e3",
   "metadata": {},
   "outputs": [
    {
     "data": {
      "image/png": "[encoded data removed]",
      "text/plain": [
       "<Figure size 432x288 with 1 Axes>"
      ]
     },
     "metadata": {
      "needs_background": "light"
     },
     "output_type": "display_data"
    }
   ],
   "source": [
    "\n",
    "plt.errorbar(indexes, sorted_charges, fmt=\"o\", color='black')\n",
    "#plt.hlines(electron_charge, indexes[0], indexes[-1], label='electron charge')\n",
    "#plt.hlines(2*electron_charge, indexes[0], indexes[-1], label='2*electron charge')\n",
    "plt.xlabel('# of drop')\n",
    "plt.ylabel('charge of drop / esu')\n",
    "#plt.legend(loc='best')\n",
    "plt.savefig('ordered drops.pdf', dpi=200)\n",
    "plt.show()"
   ]
  },
  {
   "cell_type": "code",
   "execution_count": 32,
   "id": "01c15e7e",
   "metadata": {},
   "outputs": [
    {
     "name": "stdout",
     "output_type": "stream",
     "text": [
      "[5.08471208e-10 6.37233477e-10 7.19052828e-10 8.09040858e-10\n",
      " 8.52618626e-10 8.84706464e-10 8.99861345e-10 9.03200765e-10\n",
      " 9.04762897e-10 9.05221943e-10]\n",
      "[1.27941786e-09 1.39751687e-09 1.57844611e-09 1.82712097e-09]\n",
      "2.9096790968782063e-09\n"
     ]
    }
   ],
   "source": [
    "group_1 = sorted_charges[:10]\n",
    "print (group_1)\n",
    "\n",
    "group_2 = sorted_charges[10:-1]\n",
    "print (group_2)\n",
    "\n",
    "print (sorted_charges[-1])"
   ]
  },
  {
   "cell_type": "code",
   "execution_count": 33,
   "id": "fbea6bb4",
   "metadata": {},
   "outputs": [
    {
     "name": "stdout",
     "output_type": "stream",
     "text": [
      "8.024170410586075e-10\n",
      "3.250976434338162e-11\n"
     ]
    }
   ],
   "source": [
    "print (calc_average(group_1))\n",
    "print (calc_std_dev(group_1))"
   ]
  },
  {
   "cell_type": "code",
   "execution_count": 34,
   "id": "ab9dbf29",
   "metadata": {},
   "outputs": [
    {
     "name": "stdout",
     "output_type": "stream",
     "text": [
      "7.603127270077266e-10\n",
      "7.662387883903361e-11\n"
     ]
    }
   ],
   "source": [
    "for i in range(len(group_2)):\n",
    "    group_2[i] = group_2[i] / 2\n",
    "    \n",
    "print (calc_average(group_2))\n",
    "print (calc_std_dev(group_2))"
   ]
  },
  {
   "cell_type": "code",
   "execution_count": null,
   "id": "a73bc640",
   "metadata": {},
   "outputs": [],
   "source": []
  }
 ],
 "metadata": {
  "kernelspec": {
   "display_name": "Python 3",
   "language": "python",
   "name": "python3"
  },
  "language_info": {
   "codemirror_mode": {
    "name": "ipython",
    "version": 3
   },
   "file_extension": ".py",
   "mimetype": "text/x-python",
   "name": "python",
   "nbconvert_exporter": "python",
   "pygments_lexer": "ipython3",
   "version": "3.8.8"
  }
 },
 "nbformat": 4,
 "nbformat_minor": 5
}
